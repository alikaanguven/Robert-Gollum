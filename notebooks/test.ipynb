{
 "cells": [
  {
   "cell_type": "code",
   "execution_count": 36,
   "metadata": {},
   "outputs": [],
   "source": [
    "import ROOT"
   ]
  },
  {
   "cell_type": "code",
   "execution_count": 37,
   "metadata": {},
   "outputs": [],
   "source": [
    "file = ROOT.TFile(\"/scratch-cbe/users/alikaan.gueven/Gollum/plots/test1/TT2lUnbinned_2016/TT2lUnbinned_2016.root\", \"READ\")"
   ]
  },
  {
   "cell_type": "code",
   "execution_count": 38,
   "metadata": {},
   "outputs": [
    {
     "name": "stdout",
     "output_type": "stream",
     "text": [
      "all_evt\n",
      "gluon_evt\n",
      "gluon20_evt\n",
      "gluon40_evt\n",
      "gluon60_evt\n",
      "gluon80_evt\n",
      "gluon100_evt\n"
     ]
    }
   ],
   "source": [
    "for key in file.GetListOfKeys():\n",
    "    print(key.GetName())"
   ]
  },
  {
   "cell_type": "code",
   "execution_count": 39,
   "metadata": {},
   "outputs": [],
   "source": [
    "import array"
   ]
  },
  {
   "cell_type": "code",
   "execution_count": 40,
   "metadata": {},
   "outputs": [
    {
     "name": "stdout",
     "output_type": "stream",
     "text": [
      "x1_prod_x2\n",
      "array('d', [0.0, 0.2, 0.4, 0.6, 0.8, 1.0])\n",
      "array('d', [0.0002, 0.001939159325940502, 0.002720896073167732, 0.0038258764649042394, 0.006072145414146402, 0.1998])\n"
     ]
    }
   ],
   "source": [
    "tdir = file.Get(\"gluon_evt\")\n",
    "for key in tdir.GetListOfKeys():\n",
    "    hist = key.ReadObj()\n",
    "    if hist.GetName() == \"x1_prod_x2\":\n",
    "        print(hist.GetName())\n",
    "        probs=(0, 0.20, 0.40, 0.60, 0.80, 1.00)\n",
    "        a_probs = array.array('d', probs)\n",
    "        a_vals  = array.array('d', [0.0]*len(probs))\n",
    "        hist.GetQuantiles(len(probs), a_vals, a_probs)   # x-values at given quantiles\n",
    "        print(a_probs)\n",
    "        print(a_vals)\n"
   ]
  },
  {
   "cell_type": "code",
   "execution_count": null,
   "metadata": {},
   "outputs": [],
   "source": []
  }
 ],
 "metadata": {
  "kernelspec": {
   "display_name": "coffea_torch2",
   "language": "python",
   "name": "python3"
  },
  "language_info": {
   "codemirror_mode": {
    "name": "ipython",
    "version": 3
   },
   "file_extension": ".py",
   "mimetype": "text/x-python",
   "name": "python",
   "nbconvert_exporter": "python",
   "pygments_lexer": "ipython3",
   "version": "3.11.9"
  }
 },
 "nbformat": 4,
 "nbformat_minor": 2
}
