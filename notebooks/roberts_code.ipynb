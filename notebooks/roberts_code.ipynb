{
 "cells": [
  {
   "cell_type": "code",
   "execution_count": null,
   "metadata": {},
   "outputs": [
    {
     "ename": "",
     "evalue": "",
     "output_type": "error",
     "traceback": [
      "\u001b[1;31mThe Kernel crashed while executing code in the current cell or a previous cell. \n",
      "\u001b[1;31mPlease review the code in the cell(s) to identify a possible cause of the failure. \n",
      "\u001b[1;31mClick <a href='https://aka.ms/vscodeJupyterKernelCrash'>here</a> for more info. \n",
      "\u001b[1;31mView Jupyter <a href='command:jupyter.viewOutput'>log</a> for further details."
     ]
    },
    {
     "ename": "",
     "evalue": "",
     "output_type": "error",
     "traceback": [
      "\u001b[1;31mCanceled future for execute_request message before replies were done"
     ]
    },
    {
     "ename": "",
     "evalue": "",
     "output_type": "error",
     "traceback": [
      "\u001b[1;31mCanceled future for execute_request message before replies were done. \n",
      "\u001b[1;31mView Jupyter <a href='command:jupyter.viewOutput'>log</a> for further details."
     ]
    }
   ],
   "source": [
    "import os, glob\n",
    "import ROOT\n",
    "ROOT.gROOT.SetBatch(True)\n",
    "ROOT.gStyle.SetOptStat(0)\n",
    "ROOT.EnableImplicitMT()\n",
    "\n",
    "# ---------------- simple inputs ----------------\n",
    "TREE = \"Events\"\n",
    "DIRS = [\n",
    "    \"/scratch-cbe/users/robert.schoefbeck/TT2lUnbinned/nanoTuples/TT2lUnbinned_v7/UL2016/dilep/TTLep_pow_CP5\",\n",
    "    # \"/scratch-cbe/users/robert.schoefbeck/TT2lUnbinned/nanoTuples/TT2lUnbinned_v7/UL2016_preVFP/dilep/TTLep_pow_CP5\",\n",
    "    # \"/scratch-cbe/users/robert.schoefbeck/TT2lUnbinned/nanoTuples/TT2lUnbinned_v7/UL2017/dilep/TTLep_pow_CP5\",\n",
    "    # \"/scratch-cbe/users/robert.schoefbeck/TT2lUnbinned/nanoTuples/TT2lUnbinned_v7/UL2018/dilep/TTLep_pow_CP5\",\n",
    "]\n",
    "TR_BRANCHES = [\n",
    "    # fill with the top-reco variables you want, e.g.:\n",
    "    \"tr_Wminus_phi\", \"tr_ttbar_mass\",  # add more tr_* here\n",
    "]\n",
    "\n",
    "XPROD_BINS = [5e-4, 1e-3, 2e-3, 5e-3, 1e-2]  # slices in x1*x2\n",
    "OUTPNG, OUTPDF = \"roberts_task_png\", \"roberts_task_pdf\"\n",
    "os.makedirs(OUTPNG, exist_ok=True)\n",
    "os.makedirs(OUTPDF, exist_ok=True)\n",
    "\n",
    "# ---------------- build file list ----------------\n",
    "FILES = []\n",
    "for d in DIRS:\n",
    "    FILES.extend(sorted(glob.glob(os.path.join(d, \"*.root\"))))\n",
    "assert FILES, \"No ROOT files found. Check DIRS.\"\n",
    "\n",
    "# ---------------- dataframe + cuts ----------------\n",
    "df = ROOT.RDataFrame(TREE, FILES)\\\n",
    "       .Filter(\"tr_ttbar_mass > 500\")\\\n",
    "       .Filter(\"abs(Generator_id1)==21 && abs(Generator_id2)==21\")\\\n",
    "       .Define(\"x1\", \"Generator_x1\")\\\n",
    "       .Define(\"x2\", \"Generator_x2\")\\\n",
    "       .Define(\"xprod\", \"x1*x2\")\n",
    "\n",
    "# ---------------- helper to autoset range ----------------\n",
    "def auto_range(dfr, col, nb=60):\n",
    "    vmin = float(dfr.Min(col).GetValue())\n",
    "    vmax = float(dfr.Max(col).GetValue())\n",
    "    rng  = vmax - vmin\n",
    "    if not (rng > 0): rng = 1.0\n",
    "    lo, hi = vmin - 0.5*rng, vmax + 0.5*rng\n",
    "    return nb, lo, hi\n",
    "\n",
    "# ---------------- 1D: x1, x2, x1*x2 ----------------\n",
    "for name in [\"x1\", \"x2\", \"xprod\"]:\n",
    "    nb, lo, hi = auto_range(df, name, 80)\n",
    "    h = df.Histo1D((f\"h_{name}\", f\"{name};{name};Events\", nb, lo, hi), name).GetValue()\n",
    "    c = ROOT.TCanvas(f\"c_{name}\", \"c\", 900, 700); c.SetLogy(True)\n",
    "    h.SetLineWidth(2); h.Draw(\"HIST\"); c.Update()\n",
    "    c.SaveAs(os.path.join(OUTPNG, f\"{name}.png\"))\n",
    "    c.SaveAs(os.path.join(OUTPDF, f\"{name}.pdf\"))\n",
    "\n",
    "# ---------------- 2D scatter: x2 vs x1 ----------------\n",
    "nbx, xlo, xhi = auto_range(df, \"x1\", 120)\n",
    "nby, ylo, yhi = auto_range(df, \"x2\", 120)\n",
    "h2 = df.Histo2D((\"h_x1x2\", \"x2 vs x1; x1; x2\", nbx, xlo, xhi, nby, ylo, yhi), \"x1\", \"x2\").GetValue()\n",
    "c2 = ROOT.TCanvas(\"c_x1x2\", \"c\", 900, 800)\n",
    "h2.Draw(\"COLZ\"); c2.Update()\n",
    "c2.SaveAs(os.path.join(OUTPNG, \"x1_vs_x2.png\"))\n",
    "c2.SaveAs(os.path.join(OUTPDF, \"x1_vs_x2.pdf\"))\n",
    "\n",
    "# ---------------- tr_* in slices of x1*x2 ----------------\n",
    "for i in range(len(XPROD_BINS)-1):\n",
    "    lo, hi = XPROD_BINS[i], XPROD_BINS[i+1]\n",
    "    dfs = df.Filter(f\"xprod >= {lo} && xprod < {hi}\")\n",
    "    tag = f\"xprod_{lo:g}_{hi:g}\".replace('.', 'p')\n",
    "    for br in TR_BRANCHES:\n",
    "        nb, rlo, rhi = auto_range(dfs, br, 80)\n",
    "        h = dfs.Histo1D((f\"h_{br}_{tag}\", f\"{br}  [{lo:g},{hi:g});{br};Events\", nb, rlo, rhi), br).GetValue()\n",
    "        c = ROOT.TCanvas(f\"c_{br}_{tag}\", \"c\", 900, 700); c.SetLogy(True)\n",
    "        h.SetLineWidth(2); h.Draw(\"HIST\"); c.Update()\n",
    "        c.SaveAs(os.path.join(OUTPNG, f\"{br}_{tag}.png\"))\n",
    "        c.SaveAs(os.path.join(OUTPDF, f\"{br}_{tag}.pdf\"))\n"
   ]
  }
 ],
 "metadata": {
  "kernelspec": {
   "display_name": "Python 3",
   "language": "python",
   "name": "python3"
  },
  "language_info": {
   "codemirror_mode": {
    "name": "ipython",
    "version": 3
   },
   "file_extension": ".py",
   "mimetype": "text/x-python",
   "name": "python",
   "nbconvert_exporter": "python",
   "pygments_lexer": "ipython3",
   "version": "3.11.9"
  }
 },
 "nbformat": 4,
 "nbformat_minor": 2
}
